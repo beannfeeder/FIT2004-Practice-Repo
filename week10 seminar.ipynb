{
 "cells": [
  {
   "cell_type": "markdown",
   "id": "9ef4175a",
   "metadata": {},
   "source": [
    "-----\n",
    "## Week 10\n",
    "\n",
    "Circulation\n",
    "- What is a circulation?\n",
    "    - How does it differ from what you have learnt from flow network?\n",
    "        - there is no source\n",
    "        - there is no sink\n",
    "\n",
    "Demand\n",
    "- What is a demand?\n",
    "    - where are the demand? the number in vertex\n",
    "    - Positive demand, the node eats/absorbs the flow\n",
    "    - Negative demand, the node gives out/vomit/emit the flow\n",
    "- How do you resolve demand?\n",
    "    - positive demand points to sink\n",
    "    - negative demand points from source\n",
    "- Is a circulation feasible?\n",
    "    - Is there a trick??? a shortcut???\n",
    "        - check if sum(demand) == 0\n",
    "        - It will be NO vs MAYBE...\n",
    "\n",
    "Lower-Bound\n",
    "- What is a lower-bound?\n",
    "    - [lower bound / flow / capacity] of the flow across an edge\n",
    "    - what does it mean? Minimum flow needed for tat edge\n",
    "        - this is why when we remove lower bound, we update edge capacity = old capacity - lower bound\n",
    "- How do you resolve this? change the demand for vertices of the edge\n",
    "    - minus incoming\n",
    "    - plus outgoing\n",
    "\n",
    "Assume you have a flow network with demand and lower-bound\n",
    "1. remove lower-bound\n",
    "    - creates / update demannd\n",
    "2. remove demand\n",
    "    - create source and sink\n",
    "3. run ford-fulkerson\n",
    "\n",
    "Application, a circulation network design\n",
    "- We will be using some tutorial questions for this\n",
    "- This will be done together with the assignment briefing, as I want to use tutorial question to link to the assignment so I can explain more. Is it OK?"
   ]
  }
 ],
 "metadata": {
  "language_info": {
   "name": "python"
  }
 },
 "nbformat": 4,
 "nbformat_minor": 5
}
